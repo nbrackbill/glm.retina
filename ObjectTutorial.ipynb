{
 "metadata": {
  "name": "",
  "signature": "sha256:5e67ab7fc008265ac19ea83425d4f44e7b1017cc50ed2089befccc5a59f9829f"
 },
 "nbformat": 3,
 "nbformat_minor": 0,
 "worksheets": []
}